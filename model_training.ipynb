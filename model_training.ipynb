{
 "cells": [
  {
   "cell_type": "code",
   "execution_count": 56,
   "metadata": {},
   "outputs": [],
   "source": [
    "import tensorflow as tf\n",
    "# tf.config.list_physical_devices('GPU')"
   ]
  },
  {
   "cell_type": "code",
   "execution_count": 57,
   "metadata": {},
   "outputs": [],
   "source": [
    "from tensorflow.keras.applications import InceptionV3\n",
    "from tensorflow.keras.models import Model\n",
    "from tensorflow.keras.layers import Dropout,Input,Flatten,Dense,MaxPooling2D # we want only 2 classes open eyes and close eyes and we want only learning not output layer\n",
    "from tensorflow.keras.preprocessing.image import ImageDataGenerator #data augmentation\n"
   ]
  },
  {
   "cell_type": "code",
   "execution_count": 58,
   "metadata": {},
   "outputs": [],
   "source": [
    "BATCH_SIZE =8\n",
    "EPOCHS=5"
   ]
  },
  {
   "cell_type": "code",
   "execution_count": 59,
   "metadata": {},
   "outputs": [],
   "source": [
    "train_datagen = ImageDataGenerator(rescale = 1./255, rotation_range = 0.2,shear_range = 0.2,\n",
    "    zoom_range = 0.2,width_shift_range = 0.2,\n",
    "    height_shift_range = 0.2, validation_split = 0.2) # create 5 images from each images and 20% data goes for validation"
   ]
  },
  {
   "cell_type": "markdown",
   "metadata": {},
   "source": [
    "Train data "
   ]
  },
  {
   "cell_type": "code",
   "execution_count": 60,
   "metadata": {},
   "outputs": [
    {
     "name": "stdout",
     "output_type": "stream",
     "text": [
      "Found 61519 images belonging to 2 classes.\n",
      "Found 15379 images belonging to 2 classes.\n"
     ]
    }
   ],
   "source": [
    "train_data=train_datagen.flow_from_directory(r'C:\\Users\\virus\\OneDrive\\Desktop\\Proj-Drowsiness-Detection\\Prepared_Data\\Train',target_size=(80,80),batch_size=BATCH_SIZE,class_mode='categorical',subset='training')\n",
    "\n",
    "validation_data=train_datagen.flow_from_directory(r'C:\\Users\\virus\\OneDrive\\Desktop\\Proj-Drowsiness-Detection\\Prepared_Data\\Train',target_size=(80,80),batch_size=BATCH_SIZE,class_mode='categorical',subset='validation')"
   ]
  },
  {
   "cell_type": "markdown",
   "metadata": {},
   "source": [
    "#### test data \n",
    "- no need to generate each 5 images like train_data"
   ]
  },
  {
   "cell_type": "code",
   "execution_count": 61,
   "metadata": {},
   "outputs": [
    {
     "name": "stdout",
     "output_type": "stream",
     "text": [
      "Found 8000 images belonging to 2 classes.\n"
     ]
    }
   ],
   "source": [
    "test_datagen=ImageDataGenerator(rescale=1./255)\n",
    "test_data =test_datagen.flow_from_directory(r'C:\\Users\\virus\\OneDrive\\Desktop\\Proj-Drowsiness-Detection\\Prepared_Data\\Test',target_size=(80,80),batch_size=BATCH_SIZE,class_mode='categorical')"
   ]
  },
  {
   "cell_type": "markdown",
   "metadata": {},
   "source": [
    "- we want only base model\n",
    "- include_top = False bcz: we don't want last layer\n",
    "- weights = 'imagenet':  means which knowlege\n",
    "- input_tensor = Input(shape = (80,80,3)   : 1 for grey images 3 for color images  we gave 3 bcz lighting condition"
   ]
  },
  {
   "cell_type": "markdown",
   "metadata": {},
   "source": []
  },
  {
   "cell_type": "code",
   "execution_count": 62,
   "metadata": {},
   "outputs": [],
   "source": [
    "bmodel =InceptionV3(include_top=False,weights='imagenet',input_tensor=Input(shape=(80,80,3)))\n",
    "hmodel =bmodel.output\n",
    "hmodel =Flatten()(hmodel) # convert into 1 colum array (n*1) n rows 1 column\n",
    "hmodel = Dense(64,activation='relu')(hmodel) # relu for take only important data\n",
    "hmodel=Dropout(0.5)(hmodel) # avoid overfitting\n",
    "hmodel=Dense(2,activation='softmax')(hmodel)  # 2 for classification model \n",
    "\n",
    "model=Model(inputs=bmodel.input,outputs=hmodel)\n",
    "for layer in bmodel.layers:\n",
    "    layer.trainable=False  # we only want learn not train"
   ]
  },
  {
   "cell_type": "code",
   "execution_count": null,
   "metadata": {},
   "outputs": [],
   "source": [
    "# bmodel.summary()\n",
    "\n",
    "model.summary()"
   ]
  },
  {
   "cell_type": "code",
   "execution_count": 64,
   "metadata": {},
   "outputs": [],
   "source": [
    "from tensorflow.keras.callbacks import ModelCheckpoint,EarlyStopping, ReduceLROnPlateau"
   ]
  },
  {
   "cell_type": "code",
   "execution_count": 65,
   "metadata": {},
   "outputs": [],
   "source": [
    "checkpoint=ModelCheckpoint(r'C:\\Users\\virus\\OneDrive\\Desktop\\Proj-Drowsiness-Detection\\models\\best_model.keras',monitor='val_loss',save_best_only=True,verbose=3)\n",
    "#verbose is just font progress\n",
    "earlystop = EarlyStopping(monitor='val_loss',patience=7,verbose=3,restore_best_weights=True)\n",
    "\n",
    "learning_rate =ReduceLROnPlateau(monitor='val_loss',patience=3,verbose=3) #how much speed it learning\n",
    "callbacks = [checkpoint, earlystop, learning_rate]"
   ]
  },
  {
   "cell_type": "code",
   "execution_count": 66,
   "metadata": {},
   "outputs": [
    {
     "name": "stdout",
     "output_type": "stream",
     "text": [
      "Epoch 1/5\n",
      "\u001b[1m7689/7689\u001b[0m \u001b[32m━━━━━━━━━━━━━━━━━━━━\u001b[0m\u001b[37m\u001b[0m \u001b[1m0s\u001b[0m 121ms/step - accuracy: 0.9009 - loss: 0.2445\n",
      "Epoch 1: val_loss improved from inf to 0.22957, saving model to C:\\Users\\virus\\OneDrive\\Desktop\\Proj-Drowsiness-Detection\\models\\best_model.keras\n",
      "\u001b[1m7689/7689\u001b[0m \u001b[32m━━━━━━━━━━━━━━━━━━━━\u001b[0m\u001b[37m\u001b[0m \u001b[1m1284s\u001b[0m 166ms/step - accuracy: 0.9009 - loss: 0.2445 - val_accuracy: 0.9006 - val_loss: 0.2296 - learning_rate: 0.0010\n",
      "Epoch 2/5\n",
      "\u001b[1m   1/7689\u001b[0m \u001b[37m━━━━━━━━━━━━━━━━━━━━\u001b[0m \u001b[1m14:08\u001b[0m 110ms/step - accuracy: 1.0000 - loss: 0.0537"
     ]
    },
    {
     "name": "stderr",
     "output_type": "stream",
     "text": [
      "c:\\Users\\virus\\AppData\\Local\\Programs\\Python\\Python311\\Lib\\contextlib.py:155: UserWarning: Your input ran out of data; interrupting training. Make sure that your dataset or generator can generate at least `steps_per_epoch * epochs` batches. You may need to use the `.repeat()` function when building your dataset.\n",
      "  self.gen.throw(typ, value, traceback)\n"
     ]
    },
    {
     "name": "stdout",
     "output_type": "stream",
     "text": [
      "\n",
      "Epoch 2: val_loss improved from 0.22957 to 0.19994, saving model to C:\\Users\\virus\\OneDrive\\Desktop\\Proj-Drowsiness-Detection\\models\\best_model.keras\n",
      "\u001b[1m7689/7689\u001b[0m \u001b[32m━━━━━━━━━━━━━━━━━━━━\u001b[0m\u001b[37m\u001b[0m \u001b[1m4s\u001b[0m 519us/step - accuracy: 1.0000 - loss: 0.0537 - val_accuracy: 1.0000 - val_loss: 0.1999 - learning_rate: 0.0010\n",
      "Epoch 3/5\n",
      "\u001b[1m7689/7689\u001b[0m \u001b[32m━━━━━━━━━━━━━━━━━━━━\u001b[0m\u001b[37m\u001b[0m \u001b[1m0s\u001b[0m 97ms/step - accuracy: 0.9275 - loss: 0.1814\n",
      "Epoch 3: val_loss did not improve from 0.19994\n",
      "\u001b[1m7689/7689\u001b[0m \u001b[32m━━━━━━━━━━━━━━━━━━━━\u001b[0m\u001b[37m\u001b[0m \u001b[1m920s\u001b[0m 119ms/step - accuracy: 0.9275 - loss: 0.1814 - val_accuracy: 0.9119 - val_loss: 0.2048 - learning_rate: 0.0010\n",
      "Epoch 4/5\n",
      "\u001b[1m   1/7689\u001b[0m \u001b[37m━━━━━━━━━━━━━━━━━━━━\u001b[0m \u001b[1m14:10\u001b[0m 111ms/step - accuracy: 0.8750 - loss: 0.1106\n",
      "Epoch 4: val_loss did not improve from 0.19994\n",
      "\u001b[1m7689/7689\u001b[0m \u001b[32m━━━━━━━━━━━━━━━━━━━━\u001b[0m\u001b[37m\u001b[0m \u001b[1m1s\u001b[0m 98us/step - accuracy: 0.8750 - loss: 0.1106 - val_accuracy: 0.6667 - val_loss: 0.9993 - learning_rate: 0.0010\n",
      "Epoch 5/5\n",
      "\u001b[1m7689/7689\u001b[0m \u001b[32m━━━━━━━━━━━━━━━━━━━━\u001b[0m\u001b[37m\u001b[0m \u001b[1m0s\u001b[0m 102ms/step - accuracy: 0.9355 - loss: 0.1682\n",
      "Epoch 5: val_loss improved from 0.19994 to 0.19045, saving model to C:\\Users\\virus\\OneDrive\\Desktop\\Proj-Drowsiness-Detection\\models\\best_model.keras\n",
      "\u001b[1m7689/7689\u001b[0m \u001b[32m━━━━━━━━━━━━━━━━━━━━\u001b[0m\u001b[37m\u001b[0m \u001b[1m965s\u001b[0m 125ms/step - accuracy: 0.9355 - loss: 0.1682 - val_accuracy: 0.9231 - val_loss: 0.1904 - learning_rate: 0.0010\n",
      "Restoring model weights from the end of the best epoch: 5.\n"
     ]
    },
    {
     "data": {
      "text/plain": [
       "<keras.src.callbacks.history.History at 0x1ee49211d90>"
      ]
     },
     "execution_count": 66,
     "metadata": {},
     "output_type": "execute_result"
    }
   ],
   "source": [
    "model.compile(optimizer = 'Adam', loss = 'categorical_crossentropy', metrics = ['accuracy'])\n",
    "\n",
    "model.fit(train_data,steps_per_epoch = train_data.samples// BATCH_SIZE,\n",
    "                   validation_data = validation_data,\n",
    "                   validation_steps = validation_data.samples// BATCH_SIZE,\n",
    "                   callbacks = callbacks,\n",
    "                    epochs = EPOCHS)"
   ]
  },
  {
   "cell_type": "markdown",
   "metadata": {},
   "source": [
    "10 to 50 epochs"
   ]
  },
  {
   "cell_type": "code",
   "execution_count": null,
   "metadata": {},
   "outputs": [],
   "source": []
  },
  {
   "cell_type": "markdown",
   "metadata": {},
   "source": [
    "# model evaluation\n"
   ]
  },
  {
   "cell_type": "code",
   "execution_count": null,
   "metadata": {},
   "outputs": [],
   "source": [
    "acc_tr, loss_tr = model.evaluate(train_data)\n",
    "print(acc_tr)\n",
    "print(loss_tr)"
   ]
  },
  {
   "cell_type": "code",
   "execution_count": null,
   "metadata": {},
   "outputs": [],
   "source": [
    "acc_vr, loss_vr = model.evaluate(validation_data)\n",
    "print(acc_vr)\n",
    "print(loss_vr)"
   ]
  },
  {
   "cell_type": "code",
   "execution_count": null,
   "metadata": {},
   "outputs": [],
   "source": [
    "acc_test, loss_test = model.evaluate(test_data)\n",
    "print(acc_tr)\n",
    "print(loss_tr)"
   ]
  }
 ],
 "metadata": {
  "kernelspec": {
   "display_name": "Python 3",
   "language": "python",
   "name": "python3"
  },
  "language_info": {
   "codemirror_mode": {
    "name": "ipython",
    "version": 3
   },
   "file_extension": ".py",
   "mimetype": "text/x-python",
   "name": "python",
   "nbconvert_exporter": "python",
   "pygments_lexer": "ipython3",
   "version": "3.11.2"
  }
 },
 "nbformat": 4,
 "nbformat_minor": 2
}
