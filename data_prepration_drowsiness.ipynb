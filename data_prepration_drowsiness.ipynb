{
 "cells": [
  {
   "cell_type": "code",
   "execution_count": 1,
   "metadata": {},
   "outputs": [],
   "source": [
    "import os #go through each folder\n",
    "import shutil # copy paste\n",
    "import glob\n",
    "from tqdm import tqdm   # for progress bar"
   ]
  },
  {
   "cell_type": "markdown",
   "metadata": {},
   "source": [
    "## Annotation\n",
    "subject ID:\n",
    "xxx\n",
    "\n",
    "image number:\n",
    "xxx\n",
    "\n",
    "gender:\n",
    "0 - male\n",
    "1 - famale\n",
    "\n",
    "glasses:\n",
    "0 - no\n",
    "1 - yes\n",
    "\n",
    "eye state:\n",
    "0 - close\n",
    "1 - open\n",
    "\n",
    "reflections:\n",
    "0 - none\n",
    "1 - low\n",
    "2 - high\n",
    "\n",
    "lighting conditions/image quality:\n",
    "0 - bad\n",
    "1 - good\n",
    "\n",
    "sensor type:\n",
    "01 - RealSense SR300 640x480\n",
    "02 - IDS Imaging, 1280x1024\n",
    "03 - Aptina Imagin 752x480\n",
    "\n",
    "example:\n",
    "s001_00123_0_0_0_0_0_01.png"
   ]
  },
  {
   "cell_type": "markdown",
   "metadata": {},
   "source": []
  },
  {
   "cell_type": "code",
   "execution_count": 4,
   "metadata": {},
   "outputs": [
    {
     "name": "stderr",
     "output_type": "stream",
     "text": [
      "0it [00:00, ?it/s]\n",
      "100%|██████████| 3242/3242 [00:37<00:00, 85.66it/s] \n",
      "100%|██████████| 1114/1114 [00:12<00:00, 85.75it/s]\n",
      "100%|██████████| 679/679 [00:09<00:00, 71.81it/s]\n",
      "100%|██████████| 1069/1069 [00:13<00:00, 81.47it/s] \n",
      "100%|██████████| 736/736 [00:07<00:00, 96.31it/s] \n",
      "100%|██████████| 1012/1012 [00:13<00:00, 77.36it/s]\n",
      "100%|██████████| 624/624 [00:11<00:00, 54.82it/s]\n",
      "100%|██████████| 832/832 [00:14<00:00, 56.91it/s]\n",
      "100%|██████████| 387/387 [00:06<00:00, 55.40it/s]\n",
      "100%|██████████| 399/399 [00:06<00:00, 59.60it/s]\n",
      "100%|██████████| 1648/1648 [00:29<00:00, 55.50it/s]\n",
      "100%|██████████| 8728/8728 [02:03<00:00, 70.56it/s] \n",
      "100%|██████████| 3605/3605 [00:43<00:00, 83.66it/s] \n",
      "100%|██████████| 8884/8884 [01:35<00:00, 92.73it/s] \n",
      "100%|██████████| 1132/1132 [00:12<00:00, 92.98it/s] \n",
      "100%|██████████| 1889/1889 [00:20<00:00, 90.70it/s] \n",
      "100%|██████████| 1648/1648 [00:17<00:00, 93.77it/s] \n",
      "100%|██████████| 4410/4410 [00:48<00:00, 90.63it/s] \n",
      "100%|██████████| 6175/6175 [01:25<00:00, 71.96it/s] \n",
      "100%|██████████| 704/704 [00:12<00:00, 55.42it/s]\n",
      "100%|██████████| 987/987 [00:17<00:00, 56.05it/s]\n",
      "100%|██████████| 382/382 [00:06<00:00, 55.64it/s]\n",
      "100%|██████████| 522/522 [00:09<00:00, 57.55it/s]\n",
      "100%|██████████| 752/752 [00:13<00:00, 54.45it/s]\n",
      "100%|██████████| 1502/1502 [00:27<00:00, 54.84it/s]\n",
      "100%|██████████| 1246/1246 [00:20<00:00, 60.35it/s]\n",
      "100%|██████████| 665/665 [00:09<00:00, 67.38it/s] \n",
      "100%|██████████| 736/736 [00:10<00:00, 67.17it/s]\n",
      "100%|██████████| 1393/1393 [00:19<00:00, 72.96it/s]\n",
      "100%|██████████| 1384/1384 [00:17<00:00, 78.85it/s]\n",
      "100%|██████████| 1738/1738 [00:22<00:00, 76.73it/s]\n",
      "100%|██████████| 6162/6162 [01:21<00:00, 75.78it/s] \n",
      "100%|██████████| 681/681 [00:07<00:00, 92.97it/s] \n",
      "100%|██████████| 739/739 [00:07<00:00, 96.31it/s] \n",
      "100%|██████████| 642/642 [00:07<00:00, 91.33it/s] \n",
      "100%|██████████| 6193/6193 [01:06<00:00, 92.88it/s] \n",
      "100%|██████████| 10257/10257 [01:53<00:00, 90.67it/s] \n"
     ]
    }
   ],
   "source": [
    "Raw_DIR=r'C:\\Users\\virus\\OneDrive\\Desktop\\Proj-Drowsiness-Detection\\mrlEyesData'\n",
    "for dirpath,dirname,filenames in os.walk(Raw_DIR):\n",
    "    for file in tqdm([f for f in filenames if f.endswith('.png')]):\n",
    "        path=r'C:\\Users\\virus\\OneDrive\\Desktop\\Proj-Drowsiness-Detection\\Prepared_Data\\Close_Eyes'\n",
    "        if file.split('_')[4]=='0': # close eyes\n",
    "            # print(i)\n",
    "            shutil.copy(src=dirpath+'/'+file,dst=path)\n",
    "        elif file.split('_')[4]=='1':\n",
    "            path=r'C:\\Users\\virus\\OneDrive\\Desktop\\Proj-Drowsiness-Detection\\Prepared_Data\\Open_Eyes'\n",
    "            shutil.copy(src=dirpath+'/'+file,dst=path)"
   ]
  },
  {
   "cell_type": "code",
   "execution_count": 6,
   "metadata": {},
   "outputs": [
    {
     "name": "stdout",
     "output_type": "stream",
     "text": [
      "Moved 4000 files from C:\\Users\\virus\\OneDrive\\Desktop\\Proj-Drowsiness-Detection\\Prepared_Data\\Open_Eyes to C:\\Users\\virus\\OneDrive\\Desktop\\Proj-Drowsiness-Detection\\Prepared_Data\\Test\\Open_Eyes\n"
     ]
    }
   ],
   "source": [
    "# import os\n",
    "# import shutil\n",
    "\n",
    "# Define the source and destination directories\n",
    "# 1 for close eyes test:\n",
    "# source_folder = r'C:\\Users\\virus\\OneDrive\\Desktop\\Proj-Drowsiness-Detection\\Prepared_Data\\Close_Eyes'\n",
    "# destination_folder = r'C:\\Users\\virus\\OneDrive\\Desktop\\Proj-Drowsiness-Detection\\Prepared_Data\\Test\\Close_Eyes'\n",
    "\n",
    "# 2 test data open eyes\n",
    "source_folder=r'C:\\Users\\virus\\OneDrive\\Desktop\\Proj-Drowsiness-Detection\\Prepared_Data\\Open_Eyes'\n",
    "destination_folder=r'C:\\Users\\virus\\OneDrive\\Desktop\\Proj-Drowsiness-Detection\\Prepared_Data\\Test\\Open_Eyes'\n",
    "\n",
    "# 3 remaining closed eyes cut and paste into train data\n",
    "# 4 similar for open eyes \n",
    "\n",
    "# Create destination directory if it doesn't exist\n",
    "os.makedirs(destination_folder, exist_ok=True)\n",
    "\n",
    "# Get the list of all files in the source directory\n",
    "files = os.listdir(source_folder)\n",
    "\n",
    "# Filter out only files (exclude directories)\n",
    "files = [f for f in files if os.path.isfile(os.path.join(source_folder, f))]\n",
    "\n",
    "# Select the first 2000 files\n",
    "files_to_move = files[:4000]\n",
    "\n",
    "# Move the files\n",
    "for file in files_to_move:\n",
    "    source_path = os.path.join(source_folder, file)\n",
    "    destination_path = os.path.join(destination_folder, file)\n",
    "    shutil.move(source_path, destination_path)\n",
    "\n",
    "print(f\"Moved {len(files_to_move)} files from {source_folder} to {destination_folder}\")\n"
   ]
  },
  {
   "cell_type": "markdown",
   "metadata": {},
   "source": [
    "#### 3 remaining closed eyes cut and paste into train data\n",
    "### 4 similar for open eyes "
   ]
  },
  {
   "cell_type": "code",
   "execution_count": 8,
   "metadata": {},
   "outputs": [
    {
     "name": "stdout",
     "output_type": "stream",
     "text": [
      "Moved 38952 files from C:\\Users\\virus\\OneDrive\\Desktop\\Proj-Drowsiness-Detection\\Prepared_Data\\Open_Eyes to C:\\Users\\virus\\OneDrive\\Desktop\\Proj-Drowsiness-Detection\\Prepared_Data\\Train\\Open_Eyes\n"
     ]
    }
   ],
   "source": [
    "# import os\n",
    "# import shutil\n",
    "\n",
    "# Define the source and destination directories\n",
    "# source_folder = r'C:\\Users\\virus\\OneDrive\\Desktop\\Proj-Drowsiness-Detection\\Prepared_Data\\Close_Eyes'\n",
    "# destination_folder = r'C:\\Users\\virus\\OneDrive\\Desktop\\Proj-Drowsiness-Detection\\Prepared_Data\\Train\\Close_Eyes'\n",
    "source_folder = r'C:\\Users\\virus\\OneDrive\\Desktop\\Proj-Drowsiness-Detection\\Prepared_Data\\Open_Eyes'\n",
    "destination_folder = r'C:\\Users\\virus\\OneDrive\\Desktop\\Proj-Drowsiness-Detection\\Prepared_Data\\Train\\Open_Eyes'\n",
    "\n",
    "# Create destination directory if it doesn't exist\n",
    "os.makedirs(destination_folder, exist_ok=True)\n",
    "\n",
    "# Get the list of all files in the source directory\n",
    "files = os.listdir(source_folder)\n",
    "\n",
    "# Move the files\n",
    "for file in files:\n",
    "    source_path = os.path.join(source_folder, file)\n",
    "    destination_path = os.path.join(destination_folder, file)\n",
    "    \n",
    "    # Only move files, not directories\n",
    "    if os.path.isfile(source_path):\n",
    "        shutil.move(source_path, destination_path)\n",
    "\n",
    "print(f\"Moved {len(files)} files from {source_folder} to {destination_folder}\")\n"
   ]
  }
 ],
 "metadata": {
  "kernelspec": {
   "display_name": "Python 3",
   "language": "python",
   "name": "python3"
  },
  "language_info": {
   "codemirror_mode": {
    "name": "ipython",
    "version": 3
   },
   "file_extension": ".py",
   "mimetype": "text/x-python",
   "name": "python",
   "nbconvert_exporter": "python",
   "pygments_lexer": "ipython3",
   "version": "3.11.2"
  }
 },
 "nbformat": 4,
 "nbformat_minor": 2
}
